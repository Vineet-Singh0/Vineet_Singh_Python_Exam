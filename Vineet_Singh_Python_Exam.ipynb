{
 "cells": [
  {
   "cell_type": "markdown",
   "id": "8810fce3",
   "metadata": {},
   "source": [
    "Q1. Missing Character to form a Panagram"
   ]
  },
  {
   "cell_type": "code",
   "execution_count": 44,
   "id": "1c56fa53",
   "metadata": {},
   "outputs": [
    {
     "name": "stdout",
     "output_type": "stream",
     "text": [
      "Enter the the string:- thequickbrownfoxjumpsoverthelazydog\n",
      "Panagram\n"
     ]
    }
   ],
   "source": [
    "def pana(s):\n",
    "    c=\"abcdefghijklmnopqrstuvwxyz\"\n",
    "    s1=set(s)\n",
    "    if len(s1)==len(c):\n",
    "        print(\"Panagram\")\n",
    "    else:\n",
    "        print(\"Not Panagram\")\n",
    "\n",
    "s=input(\"Enter the the string:- \")\n",
    "pana(s)"
   ]
  },
  {
   "cell_type": "markdown",
   "id": "3b41f840",
   "metadata": {},
   "source": [
    "Q2. Inventory Management System"
   ]
  },
  {
   "cell_type": "code",
   "execution_count": 21,
   "id": "22953b08",
   "metadata": {},
   "outputs": [
    {
     "name": "stdout",
     "output_type": "stream",
     "text": [
      "-----Choice Categories---- \n",
      "1. Electronics\n",
      "2. Clothing\n",
      "3. Groceries\n",
      "Enter the Choice- 1\n",
      "-----Electronics-----\n",
      "Enter the Product Name- Tv\n",
      "Enter the Price- 100000\n",
      "Enter the Quantity5\n",
      "Enter the Category0\n",
      "-----Choice Categories---- \n",
      "1. Electronics\n",
      "2. Clothing\n",
      "3. Groceries\n",
      "Enter the Choice- 0\n",
      "Invalid Entry\n"
     ]
    }
   ],
   "source": [
    "Electronics={}\n",
    "Clothing={}\n",
    "Groceries={}\n",
    "\n",
    "f=open(\"inventory_data.txt\",\"w\")\n",
    "    while True:\n",
    "    print(\"-----Choice Categories---- \")\n",
    "    print(\"1. Electronics\")\n",
    "    print(\"2. Clothing\")\n",
    "    print(\"3. Groceries\")\n",
    "    choice=input(\"Enter the Choice- \")\n",
    "    if choice==\"1\":\n",
    "        print(\"-----Electronics-----\")\n",
    "        electronics()\n",
    "    elif choice==\"2\":\n",
    "        print(\"----Clothing----\")\n",
    "        clothing()\n",
    "    elif choice==\"3\":\n",
    "        print(\"----Groceries----\")\n",
    "        groceries()\n",
    "    else:\n",
    "        print(\"Invalid Entry\")\n",
    "        break\n",
    "\n",
    "def electronics():\n",
    "    name=input(\"Enter the Name:- \")\n",
    "    price=float(input(\"Enter the Price:- \"))\n",
    "    quantity=int(input(\"Enter the Quantity:- \"))\n",
    "    validate_product(price,quantity)\n",
    "    if price>0 and quantity>0:\n",
    "        Electronics[input(\"Enter the Category\")]={\"Name: \",name ,\"Price: \", price , \"Qunatity: \", quantity}\n",
    "    sales=int(input(\"Enter the Number of Sales- \"))\n",
    "    total=prices*sales\n",
    "    print(\"Total sales revenue- \", total)\n",
    "    \n",
    "\n",
    "def clothing():\n",
    "    name=input(\"Enter the Name:- \")\n",
    "    price=float(input(\"Enter the Price:- \"))\n",
    "    quantity=int(input(\"Enter the Quantity:- \"))\n",
    "    validate_product(price,quantity)\n",
    "    if price>0 and quantity>0:\n",
    "        Clothing[input(\"Enter the Category\")]={\"Name: \",name ,\"Price: \", price , \"Qunatity: \", quantity}\n",
    "    sales=int(input(\"Enter the Number of Sales- \"))\n",
    "    total=price*sales\n",
    "    print(\"Total sales revenue- \", total)\n",
    "\n",
    "    \n",
    "def groceries():\n",
    "    name=input(\"Enter the Name:- \")\n",
    "    price=float(input(\"Enter the Price:- \"))\n",
    "    quantity=int(input(\"Enter the Quantity:- \"))\n",
    "    validate_product(price,quantity)\n",
    "    if price>0 and quantity>0:\n",
    "        Groceries[input(\"Enter the Category\")]={\"Name: \",name ,\"Price: \", price , \"Qunatity: \", quantity}\n",
    "    sales=int(input(\"Enter the Number of Sales- \"))\n",
    "    total=price*sales\n",
    "    print(\"Total sales revenue- \", total)\n",
    "    \n",
    "def validate_product(price,quantity):\n",
    "    if price>0 and quantity>0:\n",
    "        print(\"Product is validate\")\n",
    "    else:\n",
    "        print(\"Invalid Product price or Quantity\")\n",
    "        \n",
    "def calculate_total_sales_ele(price,sales):\n",
    "    print(\"Total sales revenue- \", price*sales)\n",
    "\n",
    "def report():\n",
    "    print(\"----Electronics-----\")\n",
    "    print(\"Name of product:- \",electronics.name)\n",
    "    print(\"Price of Product-\",electronics.price)\n",
    "    print(\"Total Sales Revenue:-\",electronics.total)\n",
    "    \n",
    "    print(\"----Clothing-----\")\n",
    "    print(\"Name of product:- \",clothing.name)\n",
    "    print(\"Price of Product-\",clothing.price)\n",
    "    print(\"Total Sales Revenue:-\",clothing.total)\n",
    "    \n",
    "    print(\"----Groceries-----\")\n",
    "    print(\"Name of product:- \",groceries.name)\n",
    "    print(\"Price of Product-\",groceries.price)\n",
    "    print(\"Total Sales Revenue:-\",groceries.total)\n",
    "    \n",
    "    \n",
    "def generate_report():\n",
    "    f1=open(\"inventory_report.txt\",\"w\")\n",
    "    f1.write(report())\n",
    "    f1.close\n",
    "    "
   ]
  },
  {
   "cell_type": "code",
   "execution_count": 23,
   "id": "be45ab43",
   "metadata": {},
   "outputs": [],
   "source": []
  },
  {
   "cell_type": "code",
   "execution_count": 24,
   "id": "08df07ba",
   "metadata": {},
   "outputs": [
    {
     "name": "stdout",
     "output_type": "stream",
     "text": [
      "{}\n"
     ]
    }
   ],
   "source": []
  },
  {
   "cell_type": "code",
   "execution_count": null,
   "id": "b0dbad51",
   "metadata": {},
   "outputs": [],
   "source": []
  }
 ],
 "metadata": {
  "kernelspec": {
   "display_name": "Python 3 (ipykernel)",
   "language": "python",
   "name": "python3"
  },
  "language_info": {
   "codemirror_mode": {
    "name": "ipython",
    "version": 3
   },
   "file_extension": ".py",
   "mimetype": "text/x-python",
   "name": "python",
   "nbconvert_exporter": "python",
   "pygments_lexer": "ipython3",
   "version": "3.11.0"
  }
 },
 "nbformat": 4,
 "nbformat_minor": 5
}
